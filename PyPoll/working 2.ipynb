{
 "cells": [
  {
   "cell_type": "code",
   "execution_count": 29,
   "metadata": {},
   "outputs": [],
   "source": [
    "import os\n",
    "import csv"
   ]
  },
  {
   "cell_type": "code",
   "execution_count": 32,
   "metadata": {},
   "outputs": [
    {
     "data": {
      "text/plain": [
       "'../election_data.csv'"
      ]
     },
     "execution_count": 32,
     "metadata": {},
     "output_type": "execute_result"
    }
   ],
   "source": [
    "file = os.path.join(\"..\", \"election_data.csv\")\n",
    "file"
   ]
  },
  {
   "cell_type": "code",
   "execution_count": 33,
   "metadata": {},
   "outputs": [],
   "source": [
    "Results = {}\n",
    "total_votes = 0\n",
    "\n",
    "with open(file, 'r') as infile:\n",
    "    csv_reader = csv.reader(infile)\n",
    "\n",
    "#how do I skip the header line again?\n",
    "    next(csv_reader, None)\n",
    "#googled it\n",
    "    \n",
    "# kept getting this error: TypeError: can only concatenate str (not \"int\") to str\n",
    "    for row in csv_reader:\n",
    "        total_votes = total_votes + 1\n",
    "        if row[2] in Results.keys():\n",
    "            Results[row[2]] = Results[row[2]] + 1\n",
    "        else:\n",
    "            Results[row[2]] = 1"
   ]
  },
  {
   "cell_type": "code",
   "execution_count": null,
   "metadata": {},
   "outputs": [],
   "source": [
    "Candidates = []\n",
    "Votes_won = []\n",
    "for key, value in Results.items():\n",
    "    Candidates.append(key)\n",
    "    Votes_won.append(value)"
   ]
  },
  {
   "cell_type": "code",
   "execution_count": 3,
   "metadata": {},
   "outputs": [
    {
     "name": "stdout",
     "output_type": "stream",
     "text": [
      "['Voter ID', 'County', 'Candidate']\n",
      "['12864552', 'Marsh', 'Khan']\n"
     ]
    }
   ],
   "source": [
    "with open(csv_path, \"r\") as infile:\n",
    "    csv_reader = csv.reader(infile, delimiter = \",\")\n",
    "    print(next(csv_reader))\n",
    "    print(next(csv_reader))"
   ]
  },
  {
   "cell_type": "code",
   "execution_count": 4,
   "metadata": {},
   "outputs": [],
   "source": [
    "# def print_results(election_data):\n",
    "#     if type(election_data) != list:\n",
    "#         return \"Not a list\"\n",
    "#     name = election_data[2]\n",
    "#     total_votes = election_data[0] + (name)\n",
    "#     Total_Votes = sum(total_votes)"
   ]
  },
  {
   "cell_type": "code",
   "execution_count": 27,
   "metadata": {},
   "outputs": [
    {
     "name": "stdout",
     "output_type": "stream",
     "text": [
      "['12864552', 'Marsh', 'Khan']\n"
     ]
    },
    {
     "ename": "TypeError",
     "evalue": "can only concatenate str (not \"int\") to str",
     "output_type": "error",
     "traceback": [
      "\u001b[0;31m---------------------------------------------------------------------------\u001b[0m",
      "\u001b[0;31mTypeError\u001b[0m                                 Traceback (most recent call last)",
      "\u001b[0;32m<ipython-input-27-dc63860e09f3>\u001b[0m in \u001b[0;36m<module>\u001b[0;34m\u001b[0m\n\u001b[1;32m      7\u001b[0m \u001b[0;31m#     print_results(election_data)\u001b[0m\u001b[0;34m\u001b[0m\u001b[0;34m\u001b[0m\u001b[0;34m\u001b[0m\u001b[0m\n\u001b[1;32m      8\u001b[0m    \u001b[0;32mfor\u001b[0m \u001b[0mrow\u001b[0m \u001b[0;32min\u001b[0m \u001b[0mcsv_reader\u001b[0m\u001b[0;34m:\u001b[0m\u001b[0;34m\u001b[0m\u001b[0;34m\u001b[0m\u001b[0m\n\u001b[0;32m----> 9\u001b[0;31m        \u001b[0mtotal_votes\u001b[0m\u001b[0;34m=\u001b[0m\u001b[0mrow\u001b[0m\u001b[0;34m[\u001b[0m\u001b[0;36m0\u001b[0m\u001b[0;34m]\u001b[0m \u001b[0;34m+\u001b[0m \u001b[0;36m1\u001b[0m\u001b[0;34m\u001b[0m\u001b[0;34m\u001b[0m\u001b[0m\n\u001b[0m\u001b[1;32m     10\u001b[0m        \u001b[0mvotes\u001b[0m\u001b[0;34m=\u001b[0m\u001b[0mtotal_votes\u001b[0m\u001b[0;34m\u001b[0m\u001b[0;34m\u001b[0m\u001b[0m\n\u001b[1;32m     11\u001b[0m \u001b[0mvotes\u001b[0m\u001b[0;34m\u001b[0m\u001b[0;34m\u001b[0m\u001b[0m\n",
      "\u001b[0;31mTypeError\u001b[0m: can only concatenate str (not \"int\") to str"
     ]
    }
   ],
   "source": [
    " Results = {}\n",
    "total_votes = 0\n",
    "with open(csv_path, \"r\") as infile:\n",
    "    csv_reader=csv.reader(infile, delimiter = \",\")\n",
    "    election_data=next(csv_reader)\n",
    "    print(next(csv_reader, None))\n",
    "#     print_results(election_data)\n",
    "    for row in csv_reader:\n",
    "        total_votes=row[0] + 1  \n",
    "        votes=total_votes \n",
    "votes\n",
    "        "
   ]
  },
  {
   "cell_type": "code",
   "execution_count": null,
   "metadata": {},
   "outputs": [],
   "source": []
  }
 ],
 "metadata": {
  "kernelspec": {
   "display_name": "Conda [PythonData]",
   "language": "python",
   "name": "pythondata"
  },
  "language_info": {
   "codemirror_mode": {
    "name": "ipython",
    "version": 3
   },
   "file_extension": ".py",
   "mimetype": "text/x-python",
   "name": "python",
   "nbconvert_exporter": "python",
   "pygments_lexer": "ipython3",
   "version": "3.7.3"
  }
 },
 "nbformat": 4,
 "nbformat_minor": 2
}
