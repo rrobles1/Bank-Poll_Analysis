{
 "cells": [
  {
   "cell_type": "code",
   "execution_count": 1,
   "metadata": {},
   "outputs": [],
   "source": [
    "import os\n",
    "import csv"
   ]
  },
  {
   "cell_type": "code",
   "execution_count": 2,
   "metadata": {},
   "outputs": [
    {
     "data": {
      "text/plain": [
       "'../election_data.csv'"
      ]
     },
     "execution_count": 2,
     "metadata": {},
     "output_type": "execute_result"
    }
   ],
   "source": [
    "file = os.path.join(\"..\", \"election_data.csv\")\n",
    "file"
   ]
  },
  {
   "cell_type": "code",
   "execution_count": 3,
   "metadata": {},
   "outputs": [],
   "source": [
    "Results = {}\n",
    "total_votes = 0\n",
    "\n",
    "with open(file, 'r') as infile:\n",
    "    csv_reader = csv.reader(infile)\n",
    "\n",
    "#how do I skip the header line again?\n",
    "    next(csv_reader, None)\n",
    "#googled it\n",
    "    \n",
    "# kept getting this error: TypeError: can only concatenate str (not \"int\") to str\n",
    "    for row in csv_reader:\n",
    "        total_votes = total_votes + 1\n",
    "        if row[2] in Results.keys():\n",
    "            Results[row[2]] = Results[row[2]] + 1\n",
    "        else:\n",
    "            Results[row[2]] = 1\n",
    "#"
   ]
  },
  {
   "cell_type": "code",
   "execution_count": 4,
   "metadata": {},
   "outputs": [],
   "source": [
    "Candidates = []\n",
    "Votes_won = []\n",
    "\n",
    "#will Votes_won.append(value) work?\n",
    "for key, value in Results.items():\n",
    "    Candidates.append(key)\n",
    "    Votes_won.append(value)"
   ]
  },
  {
   "cell_type": "code",
   "execution_count": 5,
   "metadata": {},
   "outputs": [],
   "source": [
    "Percent_won = []\n",
    "for n in Votes_won:\n",
    "    Percent_won.append(round(n/total_votes*100, 1))"
   ]
  },
  {
   "cell_type": "code",
   "execution_count": 25,
   "metadata": {},
   "outputs": [],
   "source": [
    "Final_percent = list(zip(Candidates, Votes_won, Percent_won))\n",
    "# zip!!\n",
    "\n",
    "winners = []\n",
    "for name in Final_percent:\n",
    "    if max(Votes_won) == name[1]:\n",
    "        winners.append(name[0])\n",
    "Winner = winners[0]"
   ]
  },
  {
   "cell_type": "code",
   "execution_count": 20,
   "metadata": {},
   "outputs": [
    {
     "data": {
      "text/plain": [
       "{'Khan': 2218231, 'Correy': 704200, 'Li': 492940, \"O'Tooley\": 105630}"
      ]
     },
     "execution_count": 20,
     "metadata": {},
     "output_type": "execute_result"
    }
   ],
   "source": [
    "Results"
   ]
  },
  {
   "cell_type": "code",
   "execution_count": 21,
   "metadata": {},
   "outputs": [
    {
     "data": {
      "text/plain": [
       "[2218231, 704200, 492940, 105630]"
      ]
     },
     "execution_count": 21,
     "metadata": {},
     "output_type": "execute_result"
    }
   ],
   "source": [
    "Votes_won"
   ]
  },
  {
   "cell_type": "code",
   "execution_count": 22,
   "metadata": {},
   "outputs": [
    {
     "data": {
      "text/plain": [
       "[('Khan', 2218231, 63.0),\n",
       " ('Correy', 704200, 20.0),\n",
       " ('Li', 492940, 14.0),\n",
       " (\"O'Tooley\", 105630, 3.0)]"
      ]
     },
     "execution_count": 22,
     "metadata": {},
     "output_type": "execute_result"
    }
   ],
   "source": [
    "Final_percent"
   ]
  },
  {
   "cell_type": "code",
   "execution_count": 26,
   "metadata": {},
   "outputs": [
    {
     "data": {
      "text/plain": [
       "'Khan'"
      ]
     },
     "execution_count": 26,
     "metadata": {},
     "output_type": "execute_result"
    }
   ],
   "source": [
    "Winner"
   ]
  },
  {
   "cell_type": "code",
   "execution_count": null,
   "metadata": {},
   "outputs": [],
   "source": []
  }
 ],
 "metadata": {
  "kernelspec": {
   "display_name": "Conda [PythonData]",
   "language": "python",
   "name": "pythondata"
  },
  "language_info": {
   "codemirror_mode": {
    "name": "ipython",
    "version": 3
   },
   "file_extension": ".py",
   "mimetype": "text/x-python",
   "name": "python",
   "nbconvert_exporter": "python",
   "pygments_lexer": "ipython3",
   "version": "3.7.3"
  }
 },
 "nbformat": 4,
 "nbformat_minor": 2
}
