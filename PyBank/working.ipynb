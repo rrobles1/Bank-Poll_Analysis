{
 "cells": [
  {
   "cell_type": "code",
   "execution_count": null,
   "metadata": {},
   "outputs": [],
   "source": [
    "# step 1: import csv files\n",
    "# step 2: loop through csv and count rows for total months\n",
    "# step 3: count rows for profit/loss\n",
    "# step 4: find averages: add csv values to list and then Average(list) \n",
    "import os\n",
    "import csv"
   ]
  },
  {
   "cell_type": "code",
   "execution_count": null,
   "metadata": {},
   "outputs": [],
   "source": [
    "csv_path = os.path.join(\"..\", \"PyBank\", \"budget_data.csv\")\n",
    "csv_path"
   ]
  },
  {
   "cell_type": "code",
   "execution_count": null,
   "metadata": {},
   "outputs": [],
   "source": [
    "with open(csv_path, \"r\") as infile:\n",
    "    csv_reader = csv.reader(infile, delimiter = \",\")\n",
    "    print(next(csv_reader))"
   ]
  },
  {
   "cell_type": "code",
   "execution_count": null,
   "metadata": {},
   "outputs": [],
   "source": [
    "def print_totals(budget_data):\n",
    "    if type (budget_data) != list:\n",
    "        return \"Not a list\"\n",
    "    Date = month [0]\n",
    "    Profit_Losses = int(prof_loss [1])\n",
    "    date_t = sum (Date)\n",
    "    prof_loss_t = sum(Profit_Losses)\n",
    "    prof_loss_avg = sum(Profit_Losses)/(prof_loss_t)"
   ]
  },
  {
   "cell_type": "code",
   "execution_count": null,
   "metadata": {},
   "outputs": [],
   "source": [
    "with open(csv_path, \"r\") as infile:\n",
    "    csv_reader = csv.reader(infile, delimiter = \",\")\n",
    "    print(next(csv_reader))\n",
    "    budget_data = next(csv_reader)\n",
    "    print_totals(budget_data)"
   ]
  },
  {
   "cell_type": "code",
   "execution_count": null,
   "metadata": {},
   "outputs": [],
   "source": []
  }
 ],
 "metadata": {
  "kernelspec": {
   "display_name": "Conda [PythonData]",
   "language": "python",
   "name": "pythondata"
  },
  "language_info": {
   "codemirror_mode": {
    "name": "ipython",
    "version": 3
   },
   "file_extension": ".py",
   "mimetype": "text/x-python",
   "name": "python",
   "nbconvert_exporter": "python",
   "pygments_lexer": "ipython3",
   "version": "3.7.3"
  }
 },
 "nbformat": 4,
 "nbformat_minor": 2
}
